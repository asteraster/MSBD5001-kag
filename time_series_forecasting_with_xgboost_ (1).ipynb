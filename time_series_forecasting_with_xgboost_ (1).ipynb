{
  "nbformat": 4,
  "nbformat_minor": 0,
  "metadata": {
    "kernelspec": {
      "display_name": "Python 3",
      "language": "python",
      "name": "python3"
    },
    "language_info": {
      "codemirror_mode": {
        "name": "ipython",
        "version": 3
      },
      "file_extension": ".py",
      "mimetype": "text/x-python",
      "name": "python",
      "nbconvert_exporter": "python",
      "pygments_lexer": "ipython3",
      "version": "3.8.3"
    },
    "colab": {
      "name": "time-series-forecasting-with-xgboost .ipynb",
      "provenance": [],
      "toc_visible": true
    }
  },
  "cells": [
    {
      "cell_type": "markdown",
      "metadata": {
        "_uuid": "9bb54771ab0e8de3f40d12e7f47d3c86fe58645b",
        "id": "Yh1yhPNa0cO5"
      },
      "source": [
        "# Hourly Time Series Forecasting using XGBoost\n",
        "\n",
        "In this notebook we will walk through time series forecasting using XGBoost. The data we will be using is hourly car speed"
      ]
    },
    {
      "cell_type": "code",
      "metadata": {
        "colab": {
          "base_uri": "https://localhost:8080/"
        },
        "id": "0CO2ViI-0cO6",
        "outputId": "be9f1223-e4f5-4364-91a2-514a51f10cca"
      },
      "source": [
        "!pip3 install xgboost"
      ],
      "execution_count": 189,
      "outputs": [
        {
          "output_type": "stream",
          "text": [
            "Requirement already satisfied: xgboost in /usr/local/lib/python3.6/dist-packages (0.90)\n",
            "Requirement already satisfied: scipy in /usr/local/lib/python3.6/dist-packages (from xgboost) (1.4.1)\n",
            "Requirement already satisfied: numpy in /usr/local/lib/python3.6/dist-packages (from xgboost) (1.18.5)\n"
          ],
          "name": "stdout"
        }
      ]
    },
    {
      "cell_type": "code",
      "metadata": {
        "_cell_guid": "b1076dfc-b9ad-4769-8c92-a6c4dae69d19",
        "_uuid": "8f2839f25d086af736a60e9eeb907d3b93b6e0e5",
        "id": "VoEKOxXj0cO8"
      },
      "source": [
        "import numpy as np # linear algebra\n",
        "import pandas as pd # data processing, CSV file I/O (e.g. pd.read_csv)\n",
        "import seaborn as sns\n",
        "import matplotlib.pyplot as plt\n",
        "import xgboost as xgb\n",
        "from xgboost import plot_importance, plot_tree\n",
        "from sklearn.metrics import mean_squared_error, mean_absolute_error\n",
        "plt.style.use('fivethirtyeight')\n",
        "from sklearn.model_selection import GridSearchCV"
      ],
      "execution_count": null,
      "outputs": []
    },
    {
      "cell_type": "code",
      "metadata": {
        "colab": {
          "base_uri": "https://localhost:8080/"
        },
        "id": "OTlNRWdm0cO8",
        "outputId": "5de34720-bd30-4478-feba-07c2eea143b5"
      },
      "source": [
        "!pip install holidays\n",
        "import holidays\n",
        "!pip install \"holidays==0.10.3\"\n",
        "import holidays\n",
        "import datetime"
      ],
      "execution_count": 118,
      "outputs": [
        {
          "output_type": "stream",
          "text": [
            "Requirement already satisfied: holidays in /usr/local/lib/python3.6/dist-packages (0.10.3)\n",
            "Requirement already satisfied: python-dateutil in /usr/local/lib/python3.6/dist-packages (from holidays) (2.8.1)\n",
            "Requirement already satisfied: six in /usr/local/lib/python3.6/dist-packages (from holidays) (1.15.0)\n",
            "Requirement already satisfied: convertdate in /usr/local/lib/python3.6/dist-packages (from holidays) (2.3.0)\n",
            "Requirement already satisfied: korean-lunar-calendar in /usr/local/lib/python3.6/dist-packages (from holidays) (0.2.1)\n",
            "Requirement already satisfied: pytz>=2014.10 in /usr/local/lib/python3.6/dist-packages (from convertdate->holidays) (2018.9)\n",
            "Requirement already satisfied: pymeeus<=1,>=0.3.6 in /usr/local/lib/python3.6/dist-packages (from convertdate->holidays) (0.3.7)\n",
            "Requirement already satisfied: holidays==0.10.3 in /usr/local/lib/python3.6/dist-packages (0.10.3)\n",
            "Requirement already satisfied: korean-lunar-calendar in /usr/local/lib/python3.6/dist-packages (from holidays==0.10.3) (0.2.1)\n",
            "Requirement already satisfied: convertdate in /usr/local/lib/python3.6/dist-packages (from holidays==0.10.3) (2.3.0)\n",
            "Requirement already satisfied: python-dateutil in /usr/local/lib/python3.6/dist-packages (from holidays==0.10.3) (2.8.1)\n",
            "Requirement already satisfied: six in /usr/local/lib/python3.6/dist-packages (from holidays==0.10.3) (1.15.0)\n",
            "Requirement already satisfied: pytz>=2014.10 in /usr/local/lib/python3.6/dist-packages (from convertdate->holidays==0.10.3) (2018.9)\n",
            "Requirement already satisfied: pymeeus<=1,>=0.3.6 in /usr/local/lib/python3.6/dist-packages (from convertdate->holidays==0.10.3) (0.3.7)\n"
          ],
          "name": "stdout"
        }
      ]
    },
    {
      "cell_type": "markdown",
      "metadata": {
        "_uuid": "102c0bcb9cfc3be70922d8a308d4e29f02002c3e",
        "id": "jPTU_Yp_0cO8"
      },
      "source": [
        "# Data"
      ]
    },
    {
      "cell_type": "code",
      "metadata": {
        "_cell_guid": "79c7e3d0-c299-4dcb-8224-4455121ee9b0",
        "_uuid": "d629ff2d2480ee46fbb7e2d37f6b5fab8052498a",
        "id": "QPYQpkhJ0cO8"
      },
      "source": [
        "pjme = pd.read_csv('/content/train.csv',index_col=['date'],parse_dates=['date'])"
      ],
      "execution_count": 119,
      "outputs": []
    },
    {
      "cell_type": "code",
      "metadata": {
        "id": "8nmRQEEp0cO8"
      },
      "source": [
        "pjme2  = pd.read_csv('/content/test.csv',index_col=['date'],parse_dates=['date'])"
      ],
      "execution_count": 120,
      "outputs": []
    },
    {
      "cell_type": "code",
      "metadata": {
        "id": "wOhLEbx30cO8"
      },
      "source": [
        "pjme = pjme.resample('h').ffill()"
      ],
      "execution_count": 121,
      "outputs": []
    },
    {
      "cell_type": "code",
      "metadata": {
        "colab": {
          "base_uri": "https://localhost:8080/",
          "height": 449
        },
        "id": "E6tqjRkv0cO8",
        "outputId": "4275c1e6-102a-4f87-fcf4-e4358d1bb100"
      },
      "source": [
        "pjme"
      ],
      "execution_count": 122,
      "outputs": [
        {
          "output_type": "execute_result",
          "data": {
            "text/html": [
              "<div>\n",
              "<style scoped>\n",
              "    .dataframe tbody tr th:only-of-type {\n",
              "        vertical-align: middle;\n",
              "    }\n",
              "\n",
              "    .dataframe tbody tr th {\n",
              "        vertical-align: top;\n",
              "    }\n",
              "\n",
              "    .dataframe thead th {\n",
              "        text-align: right;\n",
              "    }\n",
              "</style>\n",
              "<table border=\"1\" class=\"dataframe\">\n",
              "  <thead>\n",
              "    <tr style=\"text-align: right;\">\n",
              "      <th></th>\n",
              "      <th>id</th>\n",
              "      <th>speed</th>\n",
              "    </tr>\n",
              "    <tr>\n",
              "      <th>date</th>\n",
              "      <th></th>\n",
              "      <th></th>\n",
              "    </tr>\n",
              "  </thead>\n",
              "  <tbody>\n",
              "    <tr>\n",
              "      <th>2017-01-01 00:00:00</th>\n",
              "      <td>0</td>\n",
              "      <td>43.002930</td>\n",
              "    </tr>\n",
              "    <tr>\n",
              "      <th>2017-01-01 01:00:00</th>\n",
              "      <td>1</td>\n",
              "      <td>46.118696</td>\n",
              "    </tr>\n",
              "    <tr>\n",
              "      <th>2017-01-01 02:00:00</th>\n",
              "      <td>2</td>\n",
              "      <td>44.294158</td>\n",
              "    </tr>\n",
              "    <tr>\n",
              "      <th>2017-01-01 03:00:00</th>\n",
              "      <td>3</td>\n",
              "      <td>41.067468</td>\n",
              "    </tr>\n",
              "    <tr>\n",
              "      <th>2017-01-01 04:00:00</th>\n",
              "      <td>4</td>\n",
              "      <td>46.448653</td>\n",
              "    </tr>\n",
              "    <tr>\n",
              "      <th>...</th>\n",
              "      <td>...</td>\n",
              "      <td>...</td>\n",
              "    </tr>\n",
              "    <tr>\n",
              "      <th>2018-12-31 16:00:00</th>\n",
              "      <td>14003</td>\n",
              "      <td>12.501851</td>\n",
              "    </tr>\n",
              "    <tr>\n",
              "      <th>2018-12-31 17:00:00</th>\n",
              "      <td>14003</td>\n",
              "      <td>12.501851</td>\n",
              "    </tr>\n",
              "    <tr>\n",
              "      <th>2018-12-31 18:00:00</th>\n",
              "      <td>14004</td>\n",
              "      <td>15.979319</td>\n",
              "    </tr>\n",
              "    <tr>\n",
              "      <th>2018-12-31 19:00:00</th>\n",
              "      <td>14004</td>\n",
              "      <td>15.979319</td>\n",
              "    </tr>\n",
              "    <tr>\n",
              "      <th>2018-12-31 20:00:00</th>\n",
              "      <td>14005</td>\n",
              "      <td>40.594183</td>\n",
              "    </tr>\n",
              "  </tbody>\n",
              "</table>\n",
              "<p>17517 rows × 2 columns</p>\n",
              "</div>"
            ],
            "text/plain": [
              "                        id      speed\n",
              "date                                 \n",
              "2017-01-01 00:00:00      0  43.002930\n",
              "2017-01-01 01:00:00      1  46.118696\n",
              "2017-01-01 02:00:00      2  44.294158\n",
              "2017-01-01 03:00:00      3  41.067468\n",
              "2017-01-01 04:00:00      4  46.448653\n",
              "...                    ...        ...\n",
              "2018-12-31 16:00:00  14003  12.501851\n",
              "2018-12-31 17:00:00  14003  12.501851\n",
              "2018-12-31 18:00:00  14004  15.979319\n",
              "2018-12-31 19:00:00  14004  15.979319\n",
              "2018-12-31 20:00:00  14005  40.594183\n",
              "\n",
              "[17517 rows x 2 columns]"
            ]
          },
          "metadata": {
            "tags": []
          },
          "execution_count": 122
        }
      ]
    },
    {
      "cell_type": "code",
      "metadata": {
        "colab": {
          "base_uri": "https://localhost:8080/"
        },
        "id": "hm8tpWMB0cO9",
        "outputId": "87d27b33-f0f5-4901-c8e5-5fb96e829c80"
      },
      "source": [
        "pjme.count()"
      ],
      "execution_count": 123,
      "outputs": [
        {
          "output_type": "execute_result",
          "data": {
            "text/plain": [
              "id       17517\n",
              "speed    17517\n",
              "dtype: int64"
            ]
          },
          "metadata": {
            "tags": []
          },
          "execution_count": 123
        }
      ]
    },
    {
      "cell_type": "markdown",
      "metadata": {
        "_uuid": "1c1c9cf0b6c70a8edd221810bb289b8837889288",
        "id": "oHOryhsH0cO9"
      },
      "source": [
        "# Train/Test Split"
      ]
    },
    {
      "cell_type": "code",
      "metadata": {
        "_uuid": "9e5c8c6fd78d2ac35c628315a7f12ad19c84dddb",
        "id": "ai3_HlBm0cO9"
      },
      "source": [
        "split_date = '01-Dec-2018'\n",
        "pjme_train = pjme.loc[pjme.index <= split_date].copy()\n",
        "pjme_train = pjme.copy()\n",
        "pjme_test = pjme.loc[pjme.index > split_date].copy()"
      ],
      "execution_count": 124,
      "outputs": []
    },
    {
      "cell_type": "markdown",
      "metadata": {
        "_uuid": "a40373b87cfcbbfac9be205b3dbacf56bb9bc3d0",
        "id": "NiMZPyGs0cO-"
      },
      "source": [
        "# Create Time Series Features"
      ]
    },
    {
      "cell_type": "code",
      "metadata": {
        "id": "lwSRd3bf0cO-"
      },
      "source": [
        "#holidays\n",
        "hk_holidays = ['2017-01-02', '2017-01-28', '2017-01-30', '2017-01-31', '2017-04-04', '2017-04-14', '2017-04-15', '2017-04-17', '2017-05-03', '2017-05-01', '2017-05-30', '2017-07-01', '2017-10-05', '2017-10-02', '2017-10-28', '2017-12-25', '2017-12-26', '2018-01-01', '2018-02-16', '2018-02-17', '2018-02-19', '2018-04-05', '2018-03-30', '2018-03-31', '2018-04-02', '2018-05-22', '2018-05-01', '2018-06-18', '2018-07-02', '2018-09-25', '2018-10-01', '2018-10-17', '2018-12-25', '2018-12-26', '2019-01-01', '2019-02-05', '2019-02-06', '2019-02-07', '2019-04-05', '2019-04-19', '2019-04-20', '2019-04-22', '2019-05-13', '2019-05-01', '2019-06-07', '2019-07-01', '2019-09-14', '2019-10-01', '2019-10-07', '2019-12-25', '2019-12-26', '2020-01-01', '2020-01-25', '2020-01-27', '2020-01-28', '2020-04-04', '2020-04-10', '2020-04-11', '2020-04-13', '2020-04-30', '2020-05-01', '2020-06-25', '2020-07-01', '2020-10-02', '2020-10-01', '2020-10-26', '2020-12-25', '2020-12-26']"
      ],
      "execution_count": 125,
      "outputs": []
    },
    {
      "cell_type": "code",
      "metadata": {
        "id": "zJx8R_9Z0cO-"
      },
      "source": [
        "#for date in holidays.HongKong(years=2020).items():\n",
        "#hk_holidays.append(str(date[0]))"
      ],
      "execution_count": 130,
      "outputs": []
    },
    {
      "cell_type": "code",
      "metadata": {
        "colab": {
          "base_uri": "https://localhost:8080/"
        },
        "id": "Uj8Ff9us0cO-",
        "outputId": "901a9954-f968-419a-9bd0-1af89c38a938"
      },
      "source": [
        "print(hk_holidays)"
      ],
      "execution_count": 128,
      "outputs": [
        {
          "output_type": "stream",
          "text": [
            "['2017-01-02', '2017-01-28', '2017-01-30', '2017-01-31', '2017-04-04', '2017-04-14', '2017-04-15', '2017-04-17', '2017-05-03', '2017-05-01', '2017-05-30', '2017-07-01', '2017-10-05', '2017-10-02', '2017-10-28', '2017-12-25', '2017-12-26', '2018-01-01', '2018-02-16', '2018-02-17', '2018-02-19', '2018-04-05', '2018-03-30', '2018-03-31', '2018-04-02', '2018-05-22', '2018-05-01', '2018-06-18', '2018-07-02', '2018-09-25', '2018-10-01', '2018-10-17', '2018-12-25', '2018-12-26', '2019-01-01', '2019-02-05', '2019-02-06', '2019-02-07', '2019-04-05', '2019-04-19', '2019-04-20', '2019-04-22', '2019-05-13', '2019-05-01', '2019-06-07', '2019-07-01', '2019-09-14', '2019-10-01', '2019-10-07', '2019-12-25', '2019-12-26', '2020-01-01', '2020-01-25', '2020-01-27', '2020-01-28', '2020-04-04', '2020-04-10', '2020-04-11', '2020-04-13', '2020-04-30', '2020-05-01', '2020-06-25', '2020-07-01', '2020-10-02', '2020-10-01', '2020-10-26', '2020-12-25', '2020-12-26']\n"
          ],
          "name": "stdout"
        }
      ]
    },
    {
      "cell_type": "code",
      "metadata": {
        "_uuid": "53212882b070962fad91503aec7d2e550ac401c7",
        "id": "ujftCJfI0cO-"
      },
      "source": [
        "def create_features(df, label=None):\n",
        "    \"\"\"\n",
        "    Creates time series features from datetime index\n",
        "    \"\"\"\n",
        "    df['date'] = df.index\n",
        "    df['hour'] = df['date'].dt.hour\n",
        "    df['dayofweek'] = df['date'].dt.dayofweek\n",
        "    df['quarter'] = df['date'].dt.quarter\n",
        "    df['month'] = df['date'].dt.month\n",
        "    df['year'] = df['date'].dt.year\n",
        "    df['dayofyear'] = df['date'].dt.dayofyear\n",
        "    df['dayofmonth'] = df['date'].dt.day\n",
        "    df['weekofyear'] = df['date'].dt.weekofyear\n",
        "    df['holidays'] = [1 if str(val).split()[0] in hk_holidays else 0 for val in df.index]\n",
        "    X = df[['hour','dayofweek','quarter','month','year',\n",
        "            'dayofyear','dayofmonth','weekofyear','holidays']]\n",
        "    X = df[['hour','dayofweek','year','month','quarter',\n",
        "            'dayofyear','dayofmonth','weekofyear']]\n",
        "    if label:\n",
        "        y = df[label]\n",
        "        return X, y\n",
        "    return X"
      ],
      "execution_count": 134,
      "outputs": []
    },
    {
      "cell_type": "code",
      "metadata": {
        "_uuid": "6bb80315201ecc19305b67e4ba8177bcbb9514b4",
        "colab": {
          "base_uri": "https://localhost:8080/"
        },
        "id": "pIokn8Us0cO_",
        "outputId": "f6527832-1744-467f-8733-24350a55cb4d"
      },
      "source": [
        "X_train, y_train = create_features(pjme_train, label='speed')\n",
        "X_test, y_test = create_features(pjme_test, label='speed')\n",
        "X_train, y_train = create_features(pjme, label='speed') # using all dataset to train"
      ],
      "execution_count": 190,
      "outputs": [
        {
          "output_type": "stream",
          "text": [
            "/usr/local/lib/python3.6/dist-packages/ipykernel_launcher.py:13: FutureWarning: Series.dt.weekofyear and Series.dt.week have been deprecated.  Please use Series.dt.isocalendar().week instead.\n",
            "  del sys.path[0]\n"
          ],
          "name": "stderr"
        }
      ]
    },
    {
      "cell_type": "markdown",
      "metadata": {
        "_uuid": "60ffc6c21d16280ee05faead916fd09c34fa490c",
        "id": "V4VTq-bK0cO_"
      },
      "source": [
        "# Create XGBoost Model"
      ]
    },
    {
      "cell_type": "code",
      "metadata": {
        "_uuid": "f608b0b457225f175c2eb1c4a74450747b095e93",
        "scrolled": true,
        "colab": {
          "base_uri": "https://localhost:8080/"
        },
        "id": "1irfnyWb0cO_",
        "outputId": "87901a74-5bee-45a8-8bf0-6d2b7910b17f"
      },
      "source": [
        "reg = xgb.XGBRegressor(booster='gbtree',n_estimators=1000,learning_rate =0.300000012)#,max_depth=12\n",
        "other_params = {'n_estimators':250,'objective':'reg:squarederror'}\n",
        "reg = xgb.XGBRegressor(**other_params)\n",
        "reg.fit(X_train, y_train,verbose=False)\n",
        "#         eval_set=[(X_train, y_train), (X_test, y_test)],\n",
        "#         early_stopping_rounds=50)\n",
        "        # Change verbose to True if you want to see it train"
      ],
      "execution_count": 194,
      "outputs": [
        {
          "output_type": "execute_result",
          "data": {
            "text/plain": [
              "XGBRegressor(base_score=0.5, booster='gbtree', colsample_bylevel=1,\n",
              "             colsample_bynode=1, colsample_bytree=1, gamma=0,\n",
              "             importance_type='gain', learning_rate=0.1, max_delta_step=0,\n",
              "             max_depth=3, min_child_weight=1, missing=None, n_estimators=250,\n",
              "             n_jobs=1, nthread=None, objective='reg:squarederror',\n",
              "             random_state=0, reg_alpha=0, reg_lambda=1, scale_pos_weight=1,\n",
              "             seed=None, silent=None, subsample=1, verbosity=1)"
            ]
          },
          "metadata": {
            "tags": []
          },
          "execution_count": 194
        }
      ]
    },
    {
      "cell_type": "code",
      "metadata": {
        "colab": {
          "base_uri": "https://localhost:8080/"
        },
        "id": "lazEz8mD0cO_",
        "outputId": "38d0780b-cfaf-4505-e2be-1db89d3b13a6"
      },
      "source": [
        " xgb_model = xgb.XGBRegressor(n_jobs=1)\n",
        " clf = GridSearchCV(xgb_model,\n",
        "                    {'max_depth': [2, 4, 6],\n",
        "                     'n_estimators': [50, 100, 200]}, verbose=1, n_jobs=1)\n",
        " clf.fit(X_train, y_train)\n",
        " print(clf.best_score_)\n",
        " print(clf.best_params_)"
      ],
      "execution_count": 166,
      "outputs": [
        {
          "output_type": "stream",
          "text": [
            "Fitting 5 folds for each of 9 candidates, totalling 45 fits\n",
            "[13:05:58] WARNING: /workspace/src/objective/regression_obj.cu:152: reg:linear is now deprecated in favor of reg:squarederror.\n"
          ],
          "name": "stdout"
        },
        {
          "output_type": "stream",
          "text": [
            "[Parallel(n_jobs=1)]: Using backend SequentialBackend with 1 concurrent workers.\n"
          ],
          "name": "stderr"
        },
        {
          "output_type": "stream",
          "text": [
            "[13:05:58] WARNING: /workspace/src/objective/regression_obj.cu:152: reg:linear is now deprecated in favor of reg:squarederror.\n",
            "[13:05:58] WARNING: /workspace/src/objective/regression_obj.cu:152: reg:linear is now deprecated in favor of reg:squarederror.\n",
            "[13:05:58] WARNING: /workspace/src/objective/regression_obj.cu:152: reg:linear is now deprecated in favor of reg:squarederror.\n",
            "[13:05:58] WARNING: /workspace/src/objective/regression_obj.cu:152: reg:linear is now deprecated in favor of reg:squarederror.\n",
            "[13:05:59] WARNING: /workspace/src/objective/regression_obj.cu:152: reg:linear is now deprecated in favor of reg:squarederror.\n",
            "[13:05:59] WARNING: /workspace/src/objective/regression_obj.cu:152: reg:linear is now deprecated in favor of reg:squarederror.\n",
            "[13:05:59] WARNING: /workspace/src/objective/regression_obj.cu:152: reg:linear is now deprecated in favor of reg:squarederror.\n",
            "[13:06:00] WARNING: /workspace/src/objective/regression_obj.cu:152: reg:linear is now deprecated in favor of reg:squarederror.\n",
            "[13:06:00] WARNING: /workspace/src/objective/regression_obj.cu:152: reg:linear is now deprecated in favor of reg:squarederror.\n",
            "[13:06:01] WARNING: /workspace/src/objective/regression_obj.cu:152: reg:linear is now deprecated in favor of reg:squarederror.\n",
            "[13:06:01] WARNING: /workspace/src/objective/regression_obj.cu:152: reg:linear is now deprecated in favor of reg:squarederror.\n",
            "[13:06:02] WARNING: /workspace/src/objective/regression_obj.cu:152: reg:linear is now deprecated in favor of reg:squarederror.\n",
            "[13:06:03] WARNING: /workspace/src/objective/regression_obj.cu:152: reg:linear is now deprecated in favor of reg:squarederror.\n",
            "[13:06:04] WARNING: /workspace/src/objective/regression_obj.cu:152: reg:linear is now deprecated in favor of reg:squarederror.\n",
            "[13:06:05] WARNING: /workspace/src/objective/regression_obj.cu:152: reg:linear is now deprecated in favor of reg:squarederror.\n",
            "[13:06:05] WARNING: /workspace/src/objective/regression_obj.cu:152: reg:linear is now deprecated in favor of reg:squarederror.\n",
            "[13:06:05] WARNING: /workspace/src/objective/regression_obj.cu:152: reg:linear is now deprecated in favor of reg:squarederror.\n",
            "[13:06:06] WARNING: /workspace/src/objective/regression_obj.cu:152: reg:linear is now deprecated in favor of reg:squarederror.\n",
            "[13:06:06] WARNING: /workspace/src/objective/regression_obj.cu:152: reg:linear is now deprecated in favor of reg:squarederror.\n",
            "[13:06:06] WARNING: /workspace/src/objective/regression_obj.cu:152: reg:linear is now deprecated in favor of reg:squarederror.\n",
            "[13:06:07] WARNING: /workspace/src/objective/regression_obj.cu:152: reg:linear is now deprecated in favor of reg:squarederror.\n",
            "[13:06:08] WARNING: /workspace/src/objective/regression_obj.cu:152: reg:linear is now deprecated in favor of reg:squarederror.\n",
            "[13:06:08] WARNING: /workspace/src/objective/regression_obj.cu:152: reg:linear is now deprecated in favor of reg:squarederror.\n",
            "[13:06:09] WARNING: /workspace/src/objective/regression_obj.cu:152: reg:linear is now deprecated in favor of reg:squarederror.\n",
            "[13:06:10] WARNING: /workspace/src/objective/regression_obj.cu:152: reg:linear is now deprecated in favor of reg:squarederror.\n",
            "[13:06:11] WARNING: /workspace/src/objective/regression_obj.cu:152: reg:linear is now deprecated in favor of reg:squarederror.\n",
            "[13:06:12] WARNING: /workspace/src/objective/regression_obj.cu:152: reg:linear is now deprecated in favor of reg:squarederror.\n",
            "[13:06:14] WARNING: /workspace/src/objective/regression_obj.cu:152: reg:linear is now deprecated in favor of reg:squarederror.\n",
            "[13:06:15] WARNING: /workspace/src/objective/regression_obj.cu:152: reg:linear is now deprecated in favor of reg:squarederror.\n",
            "[13:06:16] WARNING: /workspace/src/objective/regression_obj.cu:152: reg:linear is now deprecated in favor of reg:squarederror.\n",
            "[13:06:17] WARNING: /workspace/src/objective/regression_obj.cu:152: reg:linear is now deprecated in favor of reg:squarederror.\n",
            "[13:06:17] WARNING: /workspace/src/objective/regression_obj.cu:152: reg:linear is now deprecated in favor of reg:squarederror.\n",
            "[13:06:18] WARNING: /workspace/src/objective/regression_obj.cu:152: reg:linear is now deprecated in favor of reg:squarederror.\n",
            "[13:06:18] WARNING: /workspace/src/objective/regression_obj.cu:152: reg:linear is now deprecated in favor of reg:squarederror.\n",
            "[13:06:19] WARNING: /workspace/src/objective/regression_obj.cu:152: reg:linear is now deprecated in favor of reg:squarederror.\n",
            "[13:06:20] WARNING: /workspace/src/objective/regression_obj.cu:152: reg:linear is now deprecated in favor of reg:squarederror.\n",
            "[13:06:21] WARNING: /workspace/src/objective/regression_obj.cu:152: reg:linear is now deprecated in favor of reg:squarederror.\n",
            "[13:06:22] WARNING: /workspace/src/objective/regression_obj.cu:152: reg:linear is now deprecated in favor of reg:squarederror.\n",
            "[13:06:23] WARNING: /workspace/src/objective/regression_obj.cu:152: reg:linear is now deprecated in favor of reg:squarederror.\n",
            "[13:06:24] WARNING: /workspace/src/objective/regression_obj.cu:152: reg:linear is now deprecated in favor of reg:squarederror.\n",
            "[13:06:26] WARNING: /workspace/src/objective/regression_obj.cu:152: reg:linear is now deprecated in favor of reg:squarederror.\n",
            "[13:06:28] WARNING: /workspace/src/objective/regression_obj.cu:152: reg:linear is now deprecated in favor of reg:squarederror.\n",
            "[13:06:30] WARNING: /workspace/src/objective/regression_obj.cu:152: reg:linear is now deprecated in favor of reg:squarederror.\n",
            "[13:06:31] WARNING: /workspace/src/objective/regression_obj.cu:152: reg:linear is now deprecated in favor of reg:squarederror.\n"
          ],
          "name": "stdout"
        },
        {
          "output_type": "stream",
          "text": [
            "[Parallel(n_jobs=1)]: Done  45 out of  45 | elapsed:   35.8s finished\n"
          ],
          "name": "stderr"
        },
        {
          "output_type": "stream",
          "text": [
            "[13:06:33] WARNING: /workspace/src/objective/regression_obj.cu:152: reg:linear is now deprecated in favor of reg:squarederror.\n",
            "0.7434966393350686\n",
            "{'max_depth': 4, 'n_estimators': 50}\n"
          ],
          "name": "stdout"
        }
      ]
    },
    {
      "cell_type": "markdown",
      "metadata": {
        "_uuid": "bf8d62f71d3037055bb267d283d58e510b2f58ff",
        "id": "g3Uefzpt0cO_"
      },
      "source": [
        "## Feature Importances\n",
        "Feature importance is a great way to get a general idea about which features the model is relying on most to make the prediction. This is a metric that simply sums up how many times each feature is split on.\n",
        "\n",
        "We can see that the day of year was most commonly used to split trees, while hour and year came in next. Quarter has low importance due to the fact that it could be created by different dayofyear splits."
      ]
    },
    {
      "cell_type": "code",
      "metadata": {
        "_uuid": "bf9e389874f0463e33fc844a4821b27f32353e2c",
        "colab": {
          "base_uri": "https://localhost:8080/",
          "height": 325
        },
        "id": "jooaIqrT0cO_",
        "outputId": "69086e3d-5f2e-40d6-f0d6-208125d37ad6"
      },
      "source": [
        "_ = plot_importance(reg, height=1.2)"
      ],
      "execution_count": 167,
      "outputs": [
        {
          "output_type": "display_data",
          "data": {
            "image/png": "[encoded data removed]",
            "text/plain": [
              "<Figure size 432x288 with 1 Axes>"
            ]
          },
          "metadata": {
            "tags": []
          }
        }
      ]
    },
    {
      "cell_type": "code",
      "metadata": {
        "colab": {
          "base_uri": "https://localhost:8080/",
          "height": 449
        },
        "id": "NcBtxVWx0cPA",
        "outputId": "2a950ba3-a44c-4ede-faae-c2d840dd7579"
      },
      "source": [
        "pjme_all[['Speed_Prediction']]"
      ],
      "execution_count": 168,
      "outputs": [
        {
          "output_type": "execute_result",
          "data": {
            "text/html": [
              "<div>\n",
              "<style scoped>\n",
              "    .dataframe tbody tr th:only-of-type {\n",
              "        vertical-align: middle;\n",
              "    }\n",
              "\n",
              "    .dataframe tbody tr th {\n",
              "        vertical-align: top;\n",
              "    }\n",
              "\n",
              "    .dataframe thead th {\n",
              "        text-align: right;\n",
              "    }\n",
              "</style>\n",
              "<table border=\"1\" class=\"dataframe\">\n",
              "  <thead>\n",
              "    <tr style=\"text-align: right;\">\n",
              "      <th></th>\n",
              "      <th>Speed_Prediction</th>\n",
              "    </tr>\n",
              "    <tr>\n",
              "      <th>date</th>\n",
              "      <th></th>\n",
              "    </tr>\n",
              "  </thead>\n",
              "  <tbody>\n",
              "    <tr>\n",
              "      <th>2018-12-01 01:00:00</th>\n",
              "      <td>47.666302</td>\n",
              "    </tr>\n",
              "    <tr>\n",
              "      <th>2018-12-01 02:00:00</th>\n",
              "      <td>47.957726</td>\n",
              "    </tr>\n",
              "    <tr>\n",
              "      <th>2018-12-01 03:00:00</th>\n",
              "      <td>48.233547</td>\n",
              "    </tr>\n",
              "    <tr>\n",
              "      <th>2018-12-01 04:00:00</th>\n",
              "      <td>48.233547</td>\n",
              "    </tr>\n",
              "    <tr>\n",
              "      <th>2018-12-01 05:00:00</th>\n",
              "      <td>48.238441</td>\n",
              "    </tr>\n",
              "    <tr>\n",
              "      <th>...</th>\n",
              "      <td>...</td>\n",
              "    </tr>\n",
              "    <tr>\n",
              "      <th>2018-12-31 16:00:00</th>\n",
              "      <td>NaN</td>\n",
              "    </tr>\n",
              "    <tr>\n",
              "      <th>2018-12-31 17:00:00</th>\n",
              "      <td>NaN</td>\n",
              "    </tr>\n",
              "    <tr>\n",
              "      <th>2018-12-31 18:00:00</th>\n",
              "      <td>NaN</td>\n",
              "    </tr>\n",
              "    <tr>\n",
              "      <th>2018-12-31 19:00:00</th>\n",
              "      <td>NaN</td>\n",
              "    </tr>\n",
              "    <tr>\n",
              "      <th>2018-12-31 20:00:00</th>\n",
              "      <td>NaN</td>\n",
              "    </tr>\n",
              "  </tbody>\n",
              "</table>\n",
              "<p>18257 rows × 1 columns</p>\n",
              "</div>"
            ],
            "text/plain": [
              "                     Speed_Prediction\n",
              "date                                 \n",
              "2018-12-01 01:00:00         47.666302\n",
              "2018-12-01 02:00:00         47.957726\n",
              "2018-12-01 03:00:00         48.233547\n",
              "2018-12-01 04:00:00         48.233547\n",
              "2018-12-01 05:00:00         48.238441\n",
              "...                               ...\n",
              "2018-12-31 16:00:00               NaN\n",
              "2018-12-31 17:00:00               NaN\n",
              "2018-12-31 18:00:00               NaN\n",
              "2018-12-31 19:00:00               NaN\n",
              "2018-12-31 20:00:00               NaN\n",
              "\n",
              "[18257 rows x 1 columns]"
            ]
          },
          "metadata": {
            "tags": []
          },
          "execution_count": 168
        }
      ]
    },
    {
      "cell_type": "markdown",
      "metadata": {
        "_uuid": "7c46fb18df1f2a56cf2ab082814d890d34e54e4e",
        "id": "ymiX8EOJ0cPA"
      },
      "source": [
        ""
      ]
    },
    {
      "cell_type": "markdown",
      "metadata": {
        "_uuid": "31964c9653b64c3e3f6fe48f5b3d7eb1987eaf84",
        "id": "6gb5W7Gq0cPA"
      },
      "source": [
        "# Error Metrics On Test Set\n"
      ]
    },
    {
      "cell_type": "code",
      "metadata": {
        "_uuid": "baf33e07988ad1860ab3fee31817cba797110879",
        "colab": {
          "base_uri": "https://localhost:8080/"
        },
        "id": "0zYjvxgA0cPA",
        "outputId": "5f35c71b-cf72-4c3c-afbb-c89d212ea3db"
      },
      "source": [
        "mean_squared_error(y_true=pjme_test['speed'],\n",
        "                   y_pred=pjme_test['Speed_Prediction'])"
      ],
      "execution_count": 169,
      "outputs": [
        {
          "output_type": "execute_result",
          "data": {
            "text/plain": [
              "50.619497886464025"
            ]
          },
          "metadata": {
            "tags": []
          },
          "execution_count": 169
        }
      ]
    },
    {
      "cell_type": "code",
      "metadata": {
        "_uuid": "4943521452099c82efb7fd00da4305b457a52fc0",
        "colab": {
          "base_uri": "https://localhost:8080/"
        },
        "id": "QdC_wdfN0cPB",
        "outputId": "8dec2ef4-0c07-4d5d-d56d-cff7c258055c"
      },
      "source": [
        "mean_absolute_error(y_true=pjme_test['speed'],\n",
        "                   y_pred=pjme_test['Speed_Prediction'])"
      ],
      "execution_count": 170,
      "outputs": [
        {
          "output_type": "execute_result",
          "data": {
            "text/plain": [
              "4.926407711344584"
            ]
          },
          "metadata": {
            "tags": []
          },
          "execution_count": 170
        }
      ]
    },
    {
      "cell_type": "markdown",
      "metadata": {
        "_uuid": "3bfa58efee593e8ea8a8accdcd981b6b9cde5146",
        "id": "NeCbOZJ20cPB"
      },
      "source": [
        "I like using mean absolute percent error because it gives an easy to interperate percentage showing how off the predictions are.\n",
        "MAPE isn't included in sklearn so we need to use a custom function."
      ]
    },
    {
      "cell_type": "code",
      "metadata": {
        "_uuid": "32fcb6d7905e2847a18e89e310b0a61bfc6c3321",
        "id": "1BoUpdZP0cPB"
      },
      "source": [
        "def mean_absolute_percentage_error(y_true, y_pred): \n",
        "    \"\"\"Calculates MAPE given y_true and y_pred\"\"\"\n",
        "    y_true, y_pred = np.array(y_true), np.array(y_pred)\n",
        "    return np.mean(np.abs((y_true - y_pred) / y_true)) * 100"
      ],
      "execution_count": 171,
      "outputs": []
    },
    {
      "cell_type": "code",
      "metadata": {
        "_uuid": "eb095dfe68dccdc10f545d2345e3ed10865102dd",
        "scrolled": true,
        "colab": {
          "base_uri": "https://localhost:8080/"
        },
        "id": "ceZ44Vlj0cPB",
        "outputId": "68d28576-df8a-4ad5-a3a7-16ea9f8b463a"
      },
      "source": [
        "mean_absolute_percentage_error(y_true=pjme_test['speed'],\n",
        "                   y_pred=pjme_test['Speed_Prediction'])"
      ],
      "execution_count": 172,
      "outputs": [
        {
          "output_type": "execute_result",
          "data": {
            "text/plain": [
              "22.939192349733347"
            ]
          },
          "metadata": {
            "tags": []
          },
          "execution_count": 172
        }
      ]
    },
    {
      "cell_type": "markdown",
      "metadata": {
        "_uuid": "5f5225264a6ae80a24b4c2802eff73f576aa4867",
        "id": "viTAIpQV0cPB"
      },
      "source": [
        "# Look at Worst and Best Predicted Days"
      ]
    },
    {
      "cell_type": "code",
      "metadata": {
        "_uuid": "fb1fcc67506951b7a9708cce9463f899b98a7b37",
        "id": "RnxM9EM-0cPB"
      },
      "source": [
        "pjme_test['error'] = pjme_test['speed'] - pjme_test['Speed_Prediction']\n",
        "pjme_test['abs_error'] = pjme_test['error'].apply(np.abs)\n",
        "error_by_day = pjme_test.groupby(['year','month','dayofmonth']) \\\n",
        "    .mean()[['speed','Speed_Prediction','error','abs_error']]"
      ],
      "execution_count": 173,
      "outputs": []
    },
    {
      "cell_type": "code",
      "metadata": {
        "_uuid": "6364555e8bed275076f6f6ee93c8537da3741aba",
        "colab": {
          "base_uri": "https://localhost:8080/",
          "height": 388
        },
        "id": "9DdDsmeV0cPB",
        "outputId": "7a47eac3-30fb-41a5-b0eb-6610d27d28e5"
      },
      "source": [
        "# Over forecasted days\n",
        "error_by_day.sort_values('error', ascending=True).head(10)"
      ],
      "execution_count": 174,
      "outputs": [
        {
          "output_type": "execute_result",
          "data": {
            "text/html": [
              "<div>\n",
              "<style scoped>\n",
              "    .dataframe tbody tr th:only-of-type {\n",
              "        vertical-align: middle;\n",
              "    }\n",
              "\n",
              "    .dataframe tbody tr th {\n",
              "        vertical-align: top;\n",
              "    }\n",
              "\n",
              "    .dataframe thead th {\n",
              "        text-align: right;\n",
              "    }\n",
              "</style>\n",
              "<table border=\"1\" class=\"dataframe\">\n",
              "  <thead>\n",
              "    <tr style=\"text-align: right;\">\n",
              "      <th></th>\n",
              "      <th></th>\n",
              "      <th></th>\n",
              "      <th>speed</th>\n",
              "      <th>Speed_Prediction</th>\n",
              "      <th>error</th>\n",
              "      <th>abs_error</th>\n",
              "    </tr>\n",
              "    <tr>\n",
              "      <th>year</th>\n",
              "      <th>month</th>\n",
              "      <th>dayofmonth</th>\n",
              "      <th></th>\n",
              "      <th></th>\n",
              "      <th></th>\n",
              "      <th></th>\n",
              "    </tr>\n",
              "  </thead>\n",
              "  <tbody>\n",
              "    <tr>\n",
              "      <th rowspan=\"10\" valign=\"top\">2018</th>\n",
              "      <th rowspan=\"10\" valign=\"top\">12</th>\n",
              "      <th>2</th>\n",
              "      <td>32.287407</td>\n",
              "      <td>36.439659</td>\n",
              "      <td>-4.152254</td>\n",
              "      <td>6.987143</td>\n",
              "    </tr>\n",
              "    <tr>\n",
              "      <th>9</th>\n",
              "      <td>28.573119</td>\n",
              "      <td>31.760212</td>\n",
              "      <td>-3.187093</td>\n",
              "      <td>9.495697</td>\n",
              "    </tr>\n",
              "    <tr>\n",
              "      <th>1</th>\n",
              "      <td>29.200391</td>\n",
              "      <td>31.986223</td>\n",
              "      <td>-2.785832</td>\n",
              "      <td>5.180160</td>\n",
              "    </tr>\n",
              "    <tr>\n",
              "      <th>3</th>\n",
              "      <td>30.513453</td>\n",
              "      <td>32.648899</td>\n",
              "      <td>-2.135444</td>\n",
              "      <td>3.382757</td>\n",
              "    </tr>\n",
              "    <tr>\n",
              "      <th>12</th>\n",
              "      <td>29.667195</td>\n",
              "      <td>31.635761</td>\n",
              "      <td>-1.968566</td>\n",
              "      <td>3.608459</td>\n",
              "    </tr>\n",
              "    <tr>\n",
              "      <th>6</th>\n",
              "      <td>29.657733</td>\n",
              "      <td>31.550022</td>\n",
              "      <td>-1.892289</td>\n",
              "      <td>4.808261</td>\n",
              "    </tr>\n",
              "    <tr>\n",
              "      <th>24</th>\n",
              "      <td>33.305006</td>\n",
              "      <td>34.980892</td>\n",
              "      <td>-1.675888</td>\n",
              "      <td>3.296684</td>\n",
              "    </tr>\n",
              "    <tr>\n",
              "      <th>17</th>\n",
              "      <td>28.247136</td>\n",
              "      <td>29.886927</td>\n",
              "      <td>-1.639791</td>\n",
              "      <td>5.939999</td>\n",
              "    </tr>\n",
              "    <tr>\n",
              "      <th>22</th>\n",
              "      <td>31.692881</td>\n",
              "      <td>33.229744</td>\n",
              "      <td>-1.536864</td>\n",
              "      <td>6.572568</td>\n",
              "    </tr>\n",
              "    <tr>\n",
              "      <th>4</th>\n",
              "      <td>30.923625</td>\n",
              "      <td>32.283485</td>\n",
              "      <td>-1.359860</td>\n",
              "      <td>3.887690</td>\n",
              "    </tr>\n",
              "  </tbody>\n",
              "</table>\n",
              "</div>"
            ],
            "text/plain": [
              "                           speed  Speed_Prediction     error  abs_error\n",
              "year month dayofmonth                                                  \n",
              "2018 12    2           32.287407         36.439659 -4.152254   6.987143\n",
              "           9           28.573119         31.760212 -3.187093   9.495697\n",
              "           1           29.200391         31.986223 -2.785832   5.180160\n",
              "           3           30.513453         32.648899 -2.135444   3.382757\n",
              "           12          29.667195         31.635761 -1.968566   3.608459\n",
              "           6           29.657733         31.550022 -1.892289   4.808261\n",
              "           24          33.305006         34.980892 -1.675888   3.296684\n",
              "           17          28.247136         29.886927 -1.639791   5.939999\n",
              "           22          31.692881         33.229744 -1.536864   6.572568\n",
              "           4           30.923625         32.283485 -1.359860   3.887690"
            ]
          },
          "metadata": {
            "tags": []
          },
          "execution_count": 174
        }
      ]
    },
    {
      "cell_type": "markdown",
      "metadata": {
        "_uuid": "adcc6c413889583c4ab195d3b9933827ff630762",
        "id": "s9VoAeZ20cPB"
      },
      "source": [
        "Notice anything about the over forecasted days? \n",
        "- #1 worst day - July 4th, 2016 - is a holiday. \n",
        "- #3 worst day - December 25, 2015 - Christmas\n",
        "- #5 worst day - July 4th, 2016 - is a holiday.   \n",
        "Looks like our model may benefit from adding a holiday indicator."
      ]
    },
    {
      "cell_type": "code",
      "metadata": {
        "_uuid": "72ee8685aea837bc274cec93c2fabb108b6a107d",
        "colab": {
          "base_uri": "https://localhost:8080/",
          "height": 388
        },
        "id": "oio_YAGq0cPB",
        "outputId": "158dc856-e7ba-4756-d3f5-476c642219bc"
      },
      "source": [
        "# Worst absolute predicted days\n",
        "error_by_day.sort_values('abs_error', ascending=False).head(10)"
      ],
      "execution_count": 175,
      "outputs": [
        {
          "output_type": "execute_result",
          "data": {
            "text/html": [
              "<div>\n",
              "<style scoped>\n",
              "    .dataframe tbody tr th:only-of-type {\n",
              "        vertical-align: middle;\n",
              "    }\n",
              "\n",
              "    .dataframe tbody tr th {\n",
              "        vertical-align: top;\n",
              "    }\n",
              "\n",
              "    .dataframe thead th {\n",
              "        text-align: right;\n",
              "    }\n",
              "</style>\n",
              "<table border=\"1\" class=\"dataframe\">\n",
              "  <thead>\n",
              "    <tr style=\"text-align: right;\">\n",
              "      <th></th>\n",
              "      <th></th>\n",
              "      <th></th>\n",
              "      <th>speed</th>\n",
              "      <th>Speed_Prediction</th>\n",
              "      <th>error</th>\n",
              "      <th>abs_error</th>\n",
              "    </tr>\n",
              "    <tr>\n",
              "      <th>year</th>\n",
              "      <th>month</th>\n",
              "      <th>dayofmonth</th>\n",
              "      <th></th>\n",
              "      <th></th>\n",
              "      <th></th>\n",
              "      <th></th>\n",
              "    </tr>\n",
              "  </thead>\n",
              "  <tbody>\n",
              "    <tr>\n",
              "      <th rowspan=\"10\" valign=\"top\">2018</th>\n",
              "      <th rowspan=\"10\" valign=\"top\">12</th>\n",
              "      <th>14</th>\n",
              "      <td>33.258545</td>\n",
              "      <td>30.531059</td>\n",
              "      <td>2.727486</td>\n",
              "      <td>12.581253</td>\n",
              "    </tr>\n",
              "    <tr>\n",
              "      <th>9</th>\n",
              "      <td>28.573119</td>\n",
              "      <td>31.760212</td>\n",
              "      <td>-3.187093</td>\n",
              "      <td>9.495697</td>\n",
              "    </tr>\n",
              "    <tr>\n",
              "      <th>8</th>\n",
              "      <td>41.481679</td>\n",
              "      <td>35.055851</td>\n",
              "      <td>6.425828</td>\n",
              "      <td>9.019828</td>\n",
              "    </tr>\n",
              "    <tr>\n",
              "      <th>20</th>\n",
              "      <td>28.421850</td>\n",
              "      <td>28.982841</td>\n",
              "      <td>-0.560990</td>\n",
              "      <td>7.449955</td>\n",
              "    </tr>\n",
              "    <tr>\n",
              "      <th>2</th>\n",
              "      <td>32.287407</td>\n",
              "      <td>36.439659</td>\n",
              "      <td>-4.152254</td>\n",
              "      <td>6.987143</td>\n",
              "    </tr>\n",
              "    <tr>\n",
              "      <th>22</th>\n",
              "      <td>31.692881</td>\n",
              "      <td>33.229744</td>\n",
              "      <td>-1.536864</td>\n",
              "      <td>6.572568</td>\n",
              "    </tr>\n",
              "    <tr>\n",
              "      <th>17</th>\n",
              "      <td>28.247136</td>\n",
              "      <td>29.886927</td>\n",
              "      <td>-1.639791</td>\n",
              "      <td>5.939999</td>\n",
              "    </tr>\n",
              "    <tr>\n",
              "      <th>1</th>\n",
              "      <td>29.200391</td>\n",
              "      <td>31.986223</td>\n",
              "      <td>-2.785832</td>\n",
              "      <td>5.180160</td>\n",
              "    </tr>\n",
              "    <tr>\n",
              "      <th>10</th>\n",
              "      <td>30.569127</td>\n",
              "      <td>31.382740</td>\n",
              "      <td>-0.813613</td>\n",
              "      <td>4.913544</td>\n",
              "    </tr>\n",
              "    <tr>\n",
              "      <th>13</th>\n",
              "      <td>33.392718</td>\n",
              "      <td>30.348072</td>\n",
              "      <td>3.044647</td>\n",
              "      <td>4.902352</td>\n",
              "    </tr>\n",
              "  </tbody>\n",
              "</table>\n",
              "</div>"
            ],
            "text/plain": [
              "                           speed  Speed_Prediction     error  abs_error\n",
              "year month dayofmonth                                                  \n",
              "2018 12    14          33.258545         30.531059  2.727486  12.581253\n",
              "           9           28.573119         31.760212 -3.187093   9.495697\n",
              "           8           41.481679         35.055851  6.425828   9.019828\n",
              "           20          28.421850         28.982841 -0.560990   7.449955\n",
              "           2           32.287407         36.439659 -4.152254   6.987143\n",
              "           22          31.692881         33.229744 -1.536864   6.572568\n",
              "           17          28.247136         29.886927 -1.639791   5.939999\n",
              "           1           29.200391         31.986223 -2.785832   5.180160\n",
              "           10          30.569127         31.382740 -0.813613   4.913544\n",
              "           13          33.392718         30.348072  3.044647   4.902352"
            ]
          },
          "metadata": {
            "tags": []
          },
          "execution_count": 175
        }
      ]
    },
    {
      "cell_type": "markdown",
      "metadata": {
        "_uuid": "0f4c1097312214cb35781d1e692a50b9a4c75654",
        "id": "UnpCnaF90cPC"
      },
      "source": [
        "The best predicted days seem to be a lot of october (not many holidays and mild weather) Also early may"
      ]
    },
    {
      "cell_type": "code",
      "metadata": {
        "_uuid": "faf0e5530e1f02fb82022813780562c42a911493",
        "colab": {
          "base_uri": "https://localhost:8080/",
          "height": 388
        },
        "id": "bVorpqQG0cPC",
        "outputId": "ea7bf661-eb91-4932-b6f8-7f9f96876c45"
      },
      "source": [
        "# Best predicted days\n",
        "error_by_day.sort_values('abs_error', ascending=True).head(10)"
      ],
      "execution_count": 176,
      "outputs": [
        {
          "output_type": "execute_result",
          "data": {
            "text/html": [
              "<div>\n",
              "<style scoped>\n",
              "    .dataframe tbody tr th:only-of-type {\n",
              "        vertical-align: middle;\n",
              "    }\n",
              "\n",
              "    .dataframe tbody tr th {\n",
              "        vertical-align: top;\n",
              "    }\n",
              "\n",
              "    .dataframe thead th {\n",
              "        text-align: right;\n",
              "    }\n",
              "</style>\n",
              "<table border=\"1\" class=\"dataframe\">\n",
              "  <thead>\n",
              "    <tr style=\"text-align: right;\">\n",
              "      <th></th>\n",
              "      <th></th>\n",
              "      <th></th>\n",
              "      <th>speed</th>\n",
              "      <th>Speed_Prediction</th>\n",
              "      <th>error</th>\n",
              "      <th>abs_error</th>\n",
              "    </tr>\n",
              "    <tr>\n",
              "      <th>year</th>\n",
              "      <th>month</th>\n",
              "      <th>dayofmonth</th>\n",
              "      <th></th>\n",
              "      <th></th>\n",
              "      <th></th>\n",
              "      <th></th>\n",
              "    </tr>\n",
              "  </thead>\n",
              "  <tbody>\n",
              "    <tr>\n",
              "      <th rowspan=\"10\" valign=\"top\">2018</th>\n",
              "      <th rowspan=\"10\" valign=\"top\">12</th>\n",
              "      <th>26</th>\n",
              "      <td>35.779637</td>\n",
              "      <td>35.510296</td>\n",
              "      <td>0.269342</td>\n",
              "      <td>3.174561</td>\n",
              "    </tr>\n",
              "    <tr>\n",
              "      <th>31</th>\n",
              "      <td>30.418025</td>\n",
              "      <td>30.089411</td>\n",
              "      <td>0.328613</td>\n",
              "      <td>3.192066</td>\n",
              "    </tr>\n",
              "    <tr>\n",
              "      <th>7</th>\n",
              "      <td>33.024505</td>\n",
              "      <td>31.166910</td>\n",
              "      <td>1.857596</td>\n",
              "      <td>3.274935</td>\n",
              "    </tr>\n",
              "    <tr>\n",
              "      <th>24</th>\n",
              "      <td>33.305006</td>\n",
              "      <td>34.980892</td>\n",
              "      <td>-1.675888</td>\n",
              "      <td>3.296684</td>\n",
              "    </tr>\n",
              "    <tr>\n",
              "      <th>27</th>\n",
              "      <td>32.185121</td>\n",
              "      <td>32.922695</td>\n",
              "      <td>-0.737574</td>\n",
              "      <td>3.302028</td>\n",
              "    </tr>\n",
              "    <tr>\n",
              "      <th>5</th>\n",
              "      <td>33.027604</td>\n",
              "      <td>31.265020</td>\n",
              "      <td>1.762583</td>\n",
              "      <td>3.368335</td>\n",
              "    </tr>\n",
              "    <tr>\n",
              "      <th>3</th>\n",
              "      <td>30.513453</td>\n",
              "      <td>32.648899</td>\n",
              "      <td>-2.135444</td>\n",
              "      <td>3.382757</td>\n",
              "    </tr>\n",
              "    <tr>\n",
              "      <th>29</th>\n",
              "      <td>36.862095</td>\n",
              "      <td>36.973412</td>\n",
              "      <td>-0.111315</td>\n",
              "      <td>3.385414</td>\n",
              "    </tr>\n",
              "    <tr>\n",
              "      <th>30</th>\n",
              "      <td>42.966224</td>\n",
              "      <td>43.826618</td>\n",
              "      <td>-0.860394</td>\n",
              "      <td>3.411177</td>\n",
              "    </tr>\n",
              "    <tr>\n",
              "      <th>12</th>\n",
              "      <td>29.667195</td>\n",
              "      <td>31.635761</td>\n",
              "      <td>-1.968566</td>\n",
              "      <td>3.608459</td>\n",
              "    </tr>\n",
              "  </tbody>\n",
              "</table>\n",
              "</div>"
            ],
            "text/plain": [
              "                           speed  Speed_Prediction     error  abs_error\n",
              "year month dayofmonth                                                  \n",
              "2018 12    26          35.779637         35.510296  0.269342   3.174561\n",
              "           31          30.418025         30.089411  0.328613   3.192066\n",
              "           7           33.024505         31.166910  1.857596   3.274935\n",
              "           24          33.305006         34.980892 -1.675888   3.296684\n",
              "           27          32.185121         32.922695 -0.737574   3.302028\n",
              "           5           33.027604         31.265020  1.762583   3.368335\n",
              "           3           30.513453         32.648899 -2.135444   3.382757\n",
              "           29          36.862095         36.973412 -0.111315   3.385414\n",
              "           30          42.966224         43.826618 -0.860394   3.411177\n",
              "           12          29.667195         31.635761 -1.968566   3.608459"
            ]
          },
          "metadata": {
            "tags": []
          },
          "execution_count": 176
        }
      ]
    },
    {
      "cell_type": "markdown",
      "metadata": {
        "_uuid": "0f78f528ca59a1e1cfb253ab69651149a5018b3b",
        "id": "ac6U0dd20cPC"
      },
      "source": [
        "# Plotting some best/worst predicted days"
      ]
    },
    {
      "cell_type": "code",
      "metadata": {
        "_uuid": "fd9d1df9db6153690488549f11cfd32c87cce960",
        "colab": {
          "base_uri": "https://localhost:8080/",
          "height": 381
        },
        "id": "QqZYCBvN0cPC",
        "outputId": "ccf12117-9ae0-47a1-eb87-1754d628b617"
      },
      "source": [
        "f, ax = plt.subplots(1)\n",
        "f.set_figheight(5)\n",
        "f.set_figwidth(10)\n",
        "_ = pjme_all[['Speed_Prediction','speed']].plot(ax=ax,\n",
        "                                              style=['-','.'])\n",
        "ax.set_ylim(0, 76)\n",
        "ax.set_xbound(lower='12-12-2018', upper='12-13-2018')\n",
        "plot = plt.suptitle('Aug 13, 2018 - Worst Predicted Day')"
      ],
      "execution_count": 177,
      "outputs": [
        {
          "output_type": "display_data",
          "data": {
            "image/png": "[encoded data removed]",
            "text/plain": [
              "<Figure size 720x360 with 1 Axes>"
            ]
          },
          "metadata": {
            "tags": []
          }
        }
      ]
    },
    {
      "cell_type": "code",
      "metadata": {
        "_uuid": "39eac1134b1278e7dd5f848ea03e7246d730b97f",
        "colab": {
          "base_uri": "https://localhost:8080/",
          "height": 381
        },
        "id": "9VNyMZxb0cPC",
        "outputId": "674d071b-807c-492e-97b2-6eb345d4cad4"
      },
      "source": [
        "f, ax = plt.subplots(1)\n",
        "f.set_figheight(5)\n",
        "f.set_figwidth(10)\n",
        "_ = pjme_all[['Speed_Prediction','speed']].plot(ax=ax,\n",
        "                                              style=['-','.'])\n",
        "ax.set_ylim(0, 76)\n",
        "ax.set_xbound(lower='06-08-2018', upper='06-09-2018')\n",
        "plot = plt.suptitle('Oct 3, 2016 - Best Predicted Day')"
      ],
      "execution_count": 178,
      "outputs": [
        {
          "output_type": "display_data",
          "data": {
            "image/png": "[encoded data removed]",
            "text/plain": [
              "<Figure size 720x360 with 1 Axes>"
            ]
          },
          "metadata": {
            "tags": []
          }
        }
      ]
    },
    {
      "cell_type": "code",
      "metadata": {
        "_uuid": "b20a85a8224428cbcb9888c62fa466757b0e04f7",
        "colab": {
          "base_uri": "https://localhost:8080/",
          "height": 381
        },
        "id": "zRS21sAp0cPC",
        "outputId": "b15a9601-46c6-40c1-e45a-6b8bf86b37e2"
      },
      "source": [
        "f, ax = plt.subplots(1)\n",
        "f.set_figheight(5)\n",
        "f.set_figwidth(10)\n",
        "_ = pjme_all[['Speed_Prediction','speed']].plot(ax=ax,\n",
        "                                              style=['-','.'])\n",
        "ax.set_ylim(0, 76)\n",
        "ax.set_xbound(lower='08-13-2016', upper='08-14-2016')\n",
        "plot = plt.suptitle('Aug 13, 2016 - Worst Predicted Day')\n"
      ],
      "execution_count": 179,
      "outputs": [
        {
          "output_type": "display_data",
          "data": {
            "image/png": "[encoded data removed]",
            "text/plain": [
              "<Figure size 720x360 with 1 Axes>"
            ]
          },
          "metadata": {
            "tags": []
          }
        }
      ]
    },
    {
      "cell_type": "markdown",
      "metadata": {
        "id": "PBxqoQn00cPC"
      },
      "source": [
        "#Hand in Data"
      ]
    },
    {
      "cell_type": "code",
      "metadata": {
        "colab": {
          "base_uri": "https://localhost:8080/"
        },
        "id": "UlBQn3n00cPC",
        "outputId": "09cc0472-a9c0-4615-c959-86b09552120d"
      },
      "source": [
        "X_handin = create_features(pjme2)"
      ],
      "execution_count": 180,
      "outputs": [
        {
          "output_type": "stream",
          "text": [
            "/usr/local/lib/python3.6/dist-packages/ipykernel_launcher.py:13: FutureWarning: Series.dt.weekofyear and Series.dt.week have been deprecated.  Please use Series.dt.isocalendar().week instead.\n",
            "  del sys.path[0]\n"
          ],
          "name": "stderr"
        }
      ]
    },
    {
      "cell_type": "code",
      "metadata": {
        "colab": {
          "base_uri": "https://localhost:8080/"
        },
        "id": "CqY0xC2O0cPC",
        "outputId": "8a7d7565-eeee-4be7-d8f0-8031fc2ff210"
      },
      "source": [
        "X_handin['Speed_Prediction'] = reg.predict(X_handin)\n",
        "# X_handin['Speed_Prediction'] =clf.predict(X_handin)"
      ],
      "execution_count": 181,
      "outputs": [
        {
          "output_type": "stream",
          "text": [
            "/usr/local/lib/python3.6/dist-packages/ipykernel_launcher.py:1: SettingWithCopyWarning: \n",
            "A value is trying to be set on a copy of a slice from a DataFrame.\n",
            "Try using .loc[row_indexer,col_indexer] = value instead\n",
            "\n",
            "See the caveats in the documentation: https://pandas.pydata.org/pandas-docs/stable/user_guide/indexing.html#returning-a-view-versus-a-copy\n",
            "  \"\"\"Entry point for launching an IPython kernel.\n"
          ],
          "name": "stderr"
        }
      ]
    },
    {
      "cell_type": "code",
      "metadata": {
        "colab": {
          "base_uri": "https://localhost:8080/",
          "height": 1000
        },
        "id": "tO4r2NCa0cPC",
        "outputId": "6bbc0db2-921d-4384-8211-1daa8ac0f1a8"
      },
      "source": [
        "X_handin.head(20)"
      ],
      "execution_count": 182,
      "outputs": [
        {
          "output_type": "execute_result",
          "data": {
            "text/html": [
              "<div>\n",
              "<style scoped>\n",
              "    .dataframe tbody tr th:only-of-type {\n",
              "        vertical-align: middle;\n",
              "    }\n",
              "\n",
              "    .dataframe tbody tr th {\n",
              "        vertical-align: top;\n",
              "    }\n",
              "\n",
              "    .dataframe thead th {\n",
              "        text-align: right;\n",
              "    }\n",
              "</style>\n",
              "<table border=\"1\" class=\"dataframe\">\n",
              "  <thead>\n",
              "    <tr style=\"text-align: right;\">\n",
              "      <th></th>\n",
              "      <th>hour</th>\n",
              "      <th>dayofweek</th>\n",
              "      <th>year</th>\n",
              "      <th>month</th>\n",
              "      <th>quarter</th>\n",
              "      <th>dayofyear</th>\n",
              "      <th>dayofmonth</th>\n",
              "      <th>weekofyear</th>\n",
              "      <th>Speed_Prediction</th>\n",
              "    </tr>\n",
              "    <tr>\n",
              "      <th>date</th>\n",
              "      <th></th>\n",
              "      <th></th>\n",
              "      <th></th>\n",
              "      <th></th>\n",
              "      <th></th>\n",
              "      <th></th>\n",
              "      <th></th>\n",
              "      <th></th>\n",
              "      <th></th>\n",
              "    </tr>\n",
              "  </thead>\n",
              "  <tbody>\n",
              "    <tr>\n",
              "      <th>2018-01-01 02:00:00</th>\n",
              "      <td>2</td>\n",
              "      <td>0</td>\n",
              "      <td>2018</td>\n",
              "      <td>1</td>\n",
              "      <td>1</td>\n",
              "      <td>1</td>\n",
              "      <td>1</td>\n",
              "      <td>1</td>\n",
              "      <td>47.830738</td>\n",
              "    </tr>\n",
              "    <tr>\n",
              "      <th>2018-01-01 05:00:00</th>\n",
              "      <td>5</td>\n",
              "      <td>0</td>\n",
              "      <td>2018</td>\n",
              "      <td>1</td>\n",
              "      <td>1</td>\n",
              "      <td>1</td>\n",
              "      <td>1</td>\n",
              "      <td>1</td>\n",
              "      <td>48.862957</td>\n",
              "    </tr>\n",
              "    <tr>\n",
              "      <th>2018-01-01 07:00:00</th>\n",
              "      <td>7</td>\n",
              "      <td>0</td>\n",
              "      <td>2018</td>\n",
              "      <td>1</td>\n",
              "      <td>1</td>\n",
              "      <td>1</td>\n",
              "      <td>1</td>\n",
              "      <td>1</td>\n",
              "      <td>44.171696</td>\n",
              "    </tr>\n",
              "    <tr>\n",
              "      <th>2018-01-01 08:00:00</th>\n",
              "      <td>8</td>\n",
              "      <td>0</td>\n",
              "      <td>2018</td>\n",
              "      <td>1</td>\n",
              "      <td>1</td>\n",
              "      <td>1</td>\n",
              "      <td>1</td>\n",
              "      <td>1</td>\n",
              "      <td>32.773182</td>\n",
              "    </tr>\n",
              "    <tr>\n",
              "      <th>2018-01-01 10:00:00</th>\n",
              "      <td>10</td>\n",
              "      <td>0</td>\n",
              "      <td>2018</td>\n",
              "      <td>1</td>\n",
              "      <td>1</td>\n",
              "      <td>1</td>\n",
              "      <td>1</td>\n",
              "      <td>1</td>\n",
              "      <td>34.333302</td>\n",
              "    </tr>\n",
              "    <tr>\n",
              "      <th>2018-01-01 16:00:00</th>\n",
              "      <td>16</td>\n",
              "      <td>0</td>\n",
              "      <td>2018</td>\n",
              "      <td>1</td>\n",
              "      <td>1</td>\n",
              "      <td>1</td>\n",
              "      <td>1</td>\n",
              "      <td>1</td>\n",
              "      <td>28.503729</td>\n",
              "    </tr>\n",
              "    <tr>\n",
              "      <th>2018-01-01 18:00:00</th>\n",
              "      <td>18</td>\n",
              "      <td>0</td>\n",
              "      <td>2018</td>\n",
              "      <td>1</td>\n",
              "      <td>1</td>\n",
              "      <td>1</td>\n",
              "      <td>1</td>\n",
              "      <td>1</td>\n",
              "      <td>23.366499</td>\n",
              "    </tr>\n",
              "    <tr>\n",
              "      <th>2018-02-01 01:00:00</th>\n",
              "      <td>1</td>\n",
              "      <td>3</td>\n",
              "      <td>2018</td>\n",
              "      <td>2</td>\n",
              "      <td>1</td>\n",
              "      <td>32</td>\n",
              "      <td>1</td>\n",
              "      <td>5</td>\n",
              "      <td>47.568302</td>\n",
              "    </tr>\n",
              "    <tr>\n",
              "      <th>2018-02-01 02:00:00</th>\n",
              "      <td>2</td>\n",
              "      <td>3</td>\n",
              "      <td>2018</td>\n",
              "      <td>2</td>\n",
              "      <td>1</td>\n",
              "      <td>32</td>\n",
              "      <td>1</td>\n",
              "      <td>5</td>\n",
              "      <td>47.859726</td>\n",
              "    </tr>\n",
              "    <tr>\n",
              "      <th>2018-02-01 07:00:00</th>\n",
              "      <td>7</td>\n",
              "      <td>3</td>\n",
              "      <td>2018</td>\n",
              "      <td>2</td>\n",
              "      <td>1</td>\n",
              "      <td>32</td>\n",
              "      <td>1</td>\n",
              "      <td>5</td>\n",
              "      <td>37.363506</td>\n",
              "    </tr>\n",
              "    <tr>\n",
              "      <th>2018-02-01 10:00:00</th>\n",
              "      <td>10</td>\n",
              "      <td>3</td>\n",
              "      <td>2018</td>\n",
              "      <td>2</td>\n",
              "      <td>1</td>\n",
              "      <td>32</td>\n",
              "      <td>1</td>\n",
              "      <td>5</td>\n",
              "      <td>27.409874</td>\n",
              "    </tr>\n",
              "    <tr>\n",
              "      <th>2018-02-01 14:00:00</th>\n",
              "      <td>14</td>\n",
              "      <td>3</td>\n",
              "      <td>2018</td>\n",
              "      <td>2</td>\n",
              "      <td>1</td>\n",
              "      <td>32</td>\n",
              "      <td>1</td>\n",
              "      <td>5</td>\n",
              "      <td>23.302343</td>\n",
              "    </tr>\n",
              "    <tr>\n",
              "      <th>2018-02-01 15:00:00</th>\n",
              "      <td>15</td>\n",
              "      <td>3</td>\n",
              "      <td>2018</td>\n",
              "      <td>2</td>\n",
              "      <td>1</td>\n",
              "      <td>32</td>\n",
              "      <td>1</td>\n",
              "      <td>5</td>\n",
              "      <td>23.302343</td>\n",
              "    </tr>\n",
              "    <tr>\n",
              "      <th>2018-02-01 16:00:00</th>\n",
              "      <td>16</td>\n",
              "      <td>3</td>\n",
              "      <td>2018</td>\n",
              "      <td>2</td>\n",
              "      <td>1</td>\n",
              "      <td>32</td>\n",
              "      <td>1</td>\n",
              "      <td>5</td>\n",
              "      <td>22.531633</td>\n",
              "    </tr>\n",
              "    <tr>\n",
              "      <th>2018-02-01 19:00:00</th>\n",
              "      <td>19</td>\n",
              "      <td>3</td>\n",
              "      <td>2018</td>\n",
              "      <td>2</td>\n",
              "      <td>1</td>\n",
              "      <td>32</td>\n",
              "      <td>1</td>\n",
              "      <td>5</td>\n",
              "      <td>24.388250</td>\n",
              "    </tr>\n",
              "    <tr>\n",
              "      <th>2018-02-01 20:00:00</th>\n",
              "      <td>20</td>\n",
              "      <td>3</td>\n",
              "      <td>2018</td>\n",
              "      <td>2</td>\n",
              "      <td>1</td>\n",
              "      <td>32</td>\n",
              "      <td>1</td>\n",
              "      <td>5</td>\n",
              "      <td>37.000046</td>\n",
              "    </tr>\n",
              "    <tr>\n",
              "      <th>2018-02-01 22:00:00</th>\n",
              "      <td>22</td>\n",
              "      <td>3</td>\n",
              "      <td>2018</td>\n",
              "      <td>2</td>\n",
              "      <td>1</td>\n",
              "      <td>32</td>\n",
              "      <td>1</td>\n",
              "      <td>5</td>\n",
              "      <td>39.401562</td>\n",
              "    </tr>\n",
              "    <tr>\n",
              "      <th>2018-02-01 23:00:00</th>\n",
              "      <td>23</td>\n",
              "      <td>3</td>\n",
              "      <td>2018</td>\n",
              "      <td>2</td>\n",
              "      <td>1</td>\n",
              "      <td>32</td>\n",
              "      <td>1</td>\n",
              "      <td>5</td>\n",
              "      <td>41.438293</td>\n",
              "    </tr>\n",
              "    <tr>\n",
              "      <th>2018-03-01 00:00:00</th>\n",
              "      <td>0</td>\n",
              "      <td>3</td>\n",
              "      <td>2018</td>\n",
              "      <td>3</td>\n",
              "      <td>1</td>\n",
              "      <td>60</td>\n",
              "      <td>1</td>\n",
              "      <td>9</td>\n",
              "      <td>45.882328</td>\n",
              "    </tr>\n",
              "    <tr>\n",
              "      <th>2018-03-01 03:00:00</th>\n",
              "      <td>3</td>\n",
              "      <td>3</td>\n",
              "      <td>2018</td>\n",
              "      <td>3</td>\n",
              "      <td>1</td>\n",
              "      <td>60</td>\n",
              "      <td>1</td>\n",
              "      <td>9</td>\n",
              "      <td>47.802334</td>\n",
              "    </tr>\n",
              "  </tbody>\n",
              "</table>\n",
              "</div>"
            ],
            "text/plain": [
              "                     hour  dayofweek  ...  weekofyear  Speed_Prediction\n",
              "date                                  ...                              \n",
              "2018-01-01 02:00:00     2          0  ...           1         47.830738\n",
              "2018-01-01 05:00:00     5          0  ...           1         48.862957\n",
              "2018-01-01 07:00:00     7          0  ...           1         44.171696\n",
              "2018-01-01 08:00:00     8          0  ...           1         32.773182\n",
              "2018-01-01 10:00:00    10          0  ...           1         34.333302\n",
              "2018-01-01 16:00:00    16          0  ...           1         28.503729\n",
              "2018-01-01 18:00:00    18          0  ...           1         23.366499\n",
              "2018-02-01 01:00:00     1          3  ...           5         47.568302\n",
              "2018-02-01 02:00:00     2          3  ...           5         47.859726\n",
              "2018-02-01 07:00:00     7          3  ...           5         37.363506\n",
              "2018-02-01 10:00:00    10          3  ...           5         27.409874\n",
              "2018-02-01 14:00:00    14          3  ...           5         23.302343\n",
              "2018-02-01 15:00:00    15          3  ...           5         23.302343\n",
              "2018-02-01 16:00:00    16          3  ...           5         22.531633\n",
              "2018-02-01 19:00:00    19          3  ...           5         24.388250\n",
              "2018-02-01 20:00:00    20          3  ...           5         37.000046\n",
              "2018-02-01 22:00:00    22          3  ...           5         39.401562\n",
              "2018-02-01 23:00:00    23          3  ...           5         41.438293\n",
              "2018-03-01 00:00:00     0          3  ...           9         45.882328\n",
              "2018-03-01 03:00:00     3          3  ...           9         47.802334\n",
              "\n",
              "[20 rows x 9 columns]"
            ]
          },
          "metadata": {
            "tags": []
          },
          "execution_count": 182
        }
      ]
    },
    {
      "cell_type": "code",
      "metadata": {
        "id": "Y3jkSHf90cPC"
      },
      "source": [
        "handin_data = X_handin['Speed_Prediction'].reset_index()"
      ],
      "execution_count": 183,
      "outputs": []
    },
    {
      "cell_type": "code",
      "metadata": {
        "id": "5XXEuTmN0cPD"
      },
      "source": [
        "#handin_data.reset_index()\n",
        "handin_data2 = handin_data['Speed_Prediction'].rename('speed')\n"
      ],
      "execution_count": 184,
      "outputs": []
    },
    {
      "cell_type": "code",
      "metadata": {
        "colab": {
          "base_uri": "https://localhost:8080/",
          "height": 418
        },
        "id": "zCfH7YZA0cPD",
        "outputId": "10d4e4ce-423b-4764-df53-6255af41ee4c"
      },
      "source": [
        "handin_data2.to_frame()"
      ],
      "execution_count": 185,
      "outputs": [
        {
          "output_type": "execute_result",
          "data": {
            "text/html": [
              "<div>\n",
              "<style scoped>\n",
              "    .dataframe tbody tr th:only-of-type {\n",
              "        vertical-align: middle;\n",
              "    }\n",
              "\n",
              "    .dataframe tbody tr th {\n",
              "        vertical-align: top;\n",
              "    }\n",
              "\n",
              "    .dataframe thead th {\n",
              "        text-align: right;\n",
              "    }\n",
              "</style>\n",
              "<table border=\"1\" class=\"dataframe\">\n",
              "  <thead>\n",
              "    <tr style=\"text-align: right;\">\n",
              "      <th></th>\n",
              "      <th>speed</th>\n",
              "    </tr>\n",
              "  </thead>\n",
              "  <tbody>\n",
              "    <tr>\n",
              "      <th>0</th>\n",
              "      <td>47.830738</td>\n",
              "    </tr>\n",
              "    <tr>\n",
              "      <th>1</th>\n",
              "      <td>48.862957</td>\n",
              "    </tr>\n",
              "    <tr>\n",
              "      <th>2</th>\n",
              "      <td>44.171696</td>\n",
              "    </tr>\n",
              "    <tr>\n",
              "      <th>3</th>\n",
              "      <td>32.773182</td>\n",
              "    </tr>\n",
              "    <tr>\n",
              "      <th>4</th>\n",
              "      <td>34.333302</td>\n",
              "    </tr>\n",
              "    <tr>\n",
              "      <th>...</th>\n",
              "      <td>...</td>\n",
              "    </tr>\n",
              "    <tr>\n",
              "      <th>3499</th>\n",
              "      <td>14.671143</td>\n",
              "    </tr>\n",
              "    <tr>\n",
              "      <th>3500</th>\n",
              "      <td>19.712770</td>\n",
              "    </tr>\n",
              "    <tr>\n",
              "      <th>3501</th>\n",
              "      <td>38.465733</td>\n",
              "    </tr>\n",
              "    <tr>\n",
              "      <th>3502</th>\n",
              "      <td>36.194523</td>\n",
              "    </tr>\n",
              "    <tr>\n",
              "      <th>3503</th>\n",
              "      <td>37.847603</td>\n",
              "    </tr>\n",
              "  </tbody>\n",
              "</table>\n",
              "<p>3504 rows × 1 columns</p>\n",
              "</div>"
            ],
            "text/plain": [
              "          speed\n",
              "0     47.830738\n",
              "1     48.862957\n",
              "2     44.171696\n",
              "3     32.773182\n",
              "4     34.333302\n",
              "...         ...\n",
              "3499  14.671143\n",
              "3500  19.712770\n",
              "3501  38.465733\n",
              "3502  36.194523\n",
              "3503  37.847603\n",
              "\n",
              "[3504 rows x 1 columns]"
            ]
          },
          "metadata": {
            "tags": []
          },
          "execution_count": 185
        }
      ]
    },
    {
      "cell_type": "code",
      "metadata": {
        "id": "sZ4FfNNF0cPD"
      },
      "source": [
        "handin_data2 = handin_data2.reset_index()"
      ],
      "execution_count": 186,
      "outputs": []
    },
    {
      "cell_type": "code",
      "metadata": {
        "id": "N_skgQdr0cPD"
      },
      "source": [
        "handin_data2 = handin_data2.rename(columns={'index': 'id'})"
      ],
      "execution_count": 187,
      "outputs": []
    },
    {
      "cell_type": "code",
      "metadata": {
        "colab": {
          "base_uri": "https://localhost:8080/",
          "height": 418
        },
        "id": "d_38BKt20cPD",
        "outputId": "710294a2-5aea-4084-8b77-2345ebd054c6"
      },
      "source": [
        "handin_data2"
      ],
      "execution_count": 188,
      "outputs": [
        {
          "output_type": "execute_result",
          "data": {
            "text/html": [
              "<div>\n",
              "<style scoped>\n",
              "    .dataframe tbody tr th:only-of-type {\n",
              "        vertical-align: middle;\n",
              "    }\n",
              "\n",
              "    .dataframe tbody tr th {\n",
              "        vertical-align: top;\n",
              "    }\n",
              "\n",
              "    .dataframe thead th {\n",
              "        text-align: right;\n",
              "    }\n",
              "</style>\n",
              "<table border=\"1\" class=\"dataframe\">\n",
              "  <thead>\n",
              "    <tr style=\"text-align: right;\">\n",
              "      <th></th>\n",
              "      <th>id</th>\n",
              "      <th>speed</th>\n",
              "    </tr>\n",
              "  </thead>\n",
              "  <tbody>\n",
              "    <tr>\n",
              "      <th>0</th>\n",
              "      <td>0</td>\n",
              "      <td>47.830738</td>\n",
              "    </tr>\n",
              "    <tr>\n",
              "      <th>1</th>\n",
              "      <td>1</td>\n",
              "      <td>48.862957</td>\n",
              "    </tr>\n",
              "    <tr>\n",
              "      <th>2</th>\n",
              "      <td>2</td>\n",
              "      <td>44.171696</td>\n",
              "    </tr>\n",
              "    <tr>\n",
              "      <th>3</th>\n",
              "      <td>3</td>\n",
              "      <td>32.773182</td>\n",
              "    </tr>\n",
              "    <tr>\n",
              "      <th>4</th>\n",
              "      <td>4</td>\n",
              "      <td>34.333302</td>\n",
              "    </tr>\n",
              "    <tr>\n",
              "      <th>...</th>\n",
              "      <td>...</td>\n",
              "      <td>...</td>\n",
              "    </tr>\n",
              "    <tr>\n",
              "      <th>3499</th>\n",
              "      <td>3499</td>\n",
              "      <td>14.671143</td>\n",
              "    </tr>\n",
              "    <tr>\n",
              "      <th>3500</th>\n",
              "      <td>3500</td>\n",
              "      <td>19.712770</td>\n",
              "    </tr>\n",
              "    <tr>\n",
              "      <th>3501</th>\n",
              "      <td>3501</td>\n",
              "      <td>38.465733</td>\n",
              "    </tr>\n",
              "    <tr>\n",
              "      <th>3502</th>\n",
              "      <td>3502</td>\n",
              "      <td>36.194523</td>\n",
              "    </tr>\n",
              "    <tr>\n",
              "      <th>3503</th>\n",
              "      <td>3503</td>\n",
              "      <td>37.847603</td>\n",
              "    </tr>\n",
              "  </tbody>\n",
              "</table>\n",
              "<p>3504 rows × 2 columns</p>\n",
              "</div>"
            ],
            "text/plain": [
              "        id      speed\n",
              "0        0  47.830738\n",
              "1        1  48.862957\n",
              "2        2  44.171696\n",
              "3        3  32.773182\n",
              "4        4  34.333302\n",
              "...    ...        ...\n",
              "3499  3499  14.671143\n",
              "3500  3500  19.712770\n",
              "3501  3501  38.465733\n",
              "3502  3502  36.194523\n",
              "3503  3503  37.847603\n",
              "\n",
              "[3504 rows x 2 columns]"
            ]
          },
          "metadata": {
            "tags": []
          },
          "execution_count": 188
        }
      ]
    },
    {
      "cell_type": "code",
      "metadata": {
        "id": "huABJf9N0cPD"
      },
      "source": [
        "handin_data2.to_csv('Submission.csv',index=False)"
      ],
      "execution_count": 163,
      "outputs": []
    },
    {
      "cell_type": "code",
      "metadata": {
        "colab": {
          "base_uri": "https://localhost:8080/",
          "height": 418
        },
        "id": "4HQ33do30cPD",
        "outputId": "6446cb33-7e27-480f-e78a-2338f9ebf411"
      },
      "source": [
        "df = pd.read_csv('./Submission.csv')\n",
        "df"
      ],
      "execution_count": 164,
      "outputs": [
        {
          "output_type": "execute_result",
          "data": {
            "text/html": [
              "<div>\n",
              "<style scoped>\n",
              "    .dataframe tbody tr th:only-of-type {\n",
              "        vertical-align: middle;\n",
              "    }\n",
              "\n",
              "    .dataframe tbody tr th {\n",
              "        vertical-align: top;\n",
              "    }\n",
              "\n",
              "    .dataframe thead th {\n",
              "        text-align: right;\n",
              "    }\n",
              "</style>\n",
              "<table border=\"1\" class=\"dataframe\">\n",
              "  <thead>\n",
              "    <tr style=\"text-align: right;\">\n",
              "      <th></th>\n",
              "      <th>id</th>\n",
              "      <th>speed</th>\n",
              "    </tr>\n",
              "  </thead>\n",
              "  <tbody>\n",
              "    <tr>\n",
              "      <th>0</th>\n",
              "      <td>0</td>\n",
              "      <td>47.830738</td>\n",
              "    </tr>\n",
              "    <tr>\n",
              "      <th>1</th>\n",
              "      <td>1</td>\n",
              "      <td>48.862957</td>\n",
              "    </tr>\n",
              "    <tr>\n",
              "      <th>2</th>\n",
              "      <td>2</td>\n",
              "      <td>44.171696</td>\n",
              "    </tr>\n",
              "    <tr>\n",
              "      <th>3</th>\n",
              "      <td>3</td>\n",
              "      <td>32.773182</td>\n",
              "    </tr>\n",
              "    <tr>\n",
              "      <th>4</th>\n",
              "      <td>4</td>\n",
              "      <td>34.333300</td>\n",
              "    </tr>\n",
              "    <tr>\n",
              "      <th>...</th>\n",
              "      <td>...</td>\n",
              "      <td>...</td>\n",
              "    </tr>\n",
              "    <tr>\n",
              "      <th>3499</th>\n",
              "      <td>3499</td>\n",
              "      <td>14.671143</td>\n",
              "    </tr>\n",
              "    <tr>\n",
              "      <th>3500</th>\n",
              "      <td>3500</td>\n",
              "      <td>19.712770</td>\n",
              "    </tr>\n",
              "    <tr>\n",
              "      <th>3501</th>\n",
              "      <td>3501</td>\n",
              "      <td>38.465733</td>\n",
              "    </tr>\n",
              "    <tr>\n",
              "      <th>3502</th>\n",
              "      <td>3502</td>\n",
              "      <td>36.194523</td>\n",
              "    </tr>\n",
              "    <tr>\n",
              "      <th>3503</th>\n",
              "      <td>3503</td>\n",
              "      <td>37.847603</td>\n",
              "    </tr>\n",
              "  </tbody>\n",
              "</table>\n",
              "<p>3504 rows × 2 columns</p>\n",
              "</div>"
            ],
            "text/plain": [
              "        id      speed\n",
              "0        0  47.830738\n",
              "1        1  48.862957\n",
              "2        2  44.171696\n",
              "3        3  32.773182\n",
              "4        4  34.333300\n",
              "...    ...        ...\n",
              "3499  3499  14.671143\n",
              "3500  3500  19.712770\n",
              "3501  3501  38.465733\n",
              "3502  3502  36.194523\n",
              "3503  3503  37.847603\n",
              "\n",
              "[3504 rows x 2 columns]"
            ]
          },
          "metadata": {
            "tags": []
          },
          "execution_count": 164
        }
      ]
    },
    {
      "cell_type": "code",
      "metadata": {
        "colab": {
          "base_uri": "https://localhost:8080/",
          "height": 418
        },
        "id": "j4BsJx5N0cPD",
        "outputId": "1574cc71-eb31-44b4-a408-893d043f7427"
      },
      "source": [
        "handin_data2"
      ],
      "execution_count": 68,
      "outputs": [
        {
          "output_type": "execute_result",
          "data": {
            "text/html": [
              "<div>\n",
              "<style scoped>\n",
              "    .dataframe tbody tr th:only-of-type {\n",
              "        vertical-align: middle;\n",
              "    }\n",
              "\n",
              "    .dataframe tbody tr th {\n",
              "        vertical-align: top;\n",
              "    }\n",
              "\n",
              "    .dataframe thead th {\n",
              "        text-align: right;\n",
              "    }\n",
              "</style>\n",
              "<table border=\"1\" class=\"dataframe\">\n",
              "  <thead>\n",
              "    <tr style=\"text-align: right;\">\n",
              "      <th></th>\n",
              "      <th>id</th>\n",
              "      <th>speed</th>\n",
              "    </tr>\n",
              "  </thead>\n",
              "  <tbody>\n",
              "    <tr>\n",
              "      <th>0</th>\n",
              "      <td>0</td>\n",
              "      <td>47.830738</td>\n",
              "    </tr>\n",
              "    <tr>\n",
              "      <th>1</th>\n",
              "      <td>1</td>\n",
              "      <td>48.862957</td>\n",
              "    </tr>\n",
              "    <tr>\n",
              "      <th>2</th>\n",
              "      <td>2</td>\n",
              "      <td>44.171696</td>\n",
              "    </tr>\n",
              "    <tr>\n",
              "      <th>3</th>\n",
              "      <td>3</td>\n",
              "      <td>32.773182</td>\n",
              "    </tr>\n",
              "    <tr>\n",
              "      <th>4</th>\n",
              "      <td>4</td>\n",
              "      <td>34.333302</td>\n",
              "    </tr>\n",
              "    <tr>\n",
              "      <th>...</th>\n",
              "      <td>...</td>\n",
              "      <td>...</td>\n",
              "    </tr>\n",
              "    <tr>\n",
              "      <th>3499</th>\n",
              "      <td>3499</td>\n",
              "      <td>14.671143</td>\n",
              "    </tr>\n",
              "    <tr>\n",
              "      <th>3500</th>\n",
              "      <td>3500</td>\n",
              "      <td>19.712770</td>\n",
              "    </tr>\n",
              "    <tr>\n",
              "      <th>3501</th>\n",
              "      <td>3501</td>\n",
              "      <td>38.465733</td>\n",
              "    </tr>\n",
              "    <tr>\n",
              "      <th>3502</th>\n",
              "      <td>3502</td>\n",
              "      <td>36.194523</td>\n",
              "    </tr>\n",
              "    <tr>\n",
              "      <th>3503</th>\n",
              "      <td>3503</td>\n",
              "      <td>37.847603</td>\n",
              "    </tr>\n",
              "  </tbody>\n",
              "</table>\n",
              "<p>3504 rows × 2 columns</p>\n",
              "</div>"
            ],
            "text/plain": [
              "        id      speed\n",
              "0        0  47.830738\n",
              "1        1  48.862957\n",
              "2        2  44.171696\n",
              "3        3  32.773182\n",
              "4        4  34.333302\n",
              "...    ...        ...\n",
              "3499  3499  14.671143\n",
              "3500  3500  19.712770\n",
              "3501  3501  38.465733\n",
              "3502  3502  36.194523\n",
              "3503  3503  37.847603\n",
              "\n",
              "[3504 rows x 2 columns]"
            ]
          },
          "metadata": {
            "tags": []
          },
          "execution_count": 68
        }
      ]
    }
  ]
}